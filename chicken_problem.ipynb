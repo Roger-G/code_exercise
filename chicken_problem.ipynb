{
 "cells": [
  {
   "cell_type": "code",
   "execution_count": null,
   "metadata": {},
   "outputs": [],
   "source": [
    "''' question: n个鸡场，初始每个有a[i]只鸡，每天增长k只，并且每天最多的那个鸡场，卖一半鸡（向下取整），问m天后共几只鸡。'''\n",
    "\n",
    "list_num = [12, 11, 10, 19, 19]\n",
    "\n",
    "k=3\n",
    "list_copy = list_num.copy\n",
    "\n",
    "for i in range(2):\n",
    "    num_max = max(list_num)\n",
    "    print('max(list_num)', num_max)\n",
    "    for i, num in enumerate(list_num):\n",
    "        \n",
    "        if num == num_max:\n",
    "            list_num[i] = max(list_num) // 2\n",
    "#         print('list_num', list_num)\n",
    "        list_num[i] = list_num[i] + k   \n",
    "    \n",
    "#     list_num = [num_base + k for num_base in list_num ]\n",
    "    print('list_num', list_num)\n",
    "    \n",
    "print('sum', sum(list_num))"
   ]
  }
 ],
 "metadata": {
  "kernelspec": {
   "display_name": "Python 3",
   "language": "python",
   "name": "python3"
  },
  "language_info": {
   "codemirror_mode": {
    "name": "ipython",
    "version": 3
   },
   "file_extension": ".py",
   "mimetype": "text/x-python",
   "name": "python",
   "nbconvert_exporter": "python",
   "pygments_lexer": "ipython3",
   "version": "3.7.3"
  }
 },
 "nbformat": 4,
 "nbformat_minor": 4
}
