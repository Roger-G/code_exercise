{
 "cells": [
  {
   "cell_type": "code",
   "execution_count": null,
   "metadata": {},
   "outputs": [],
   "source": [
    "\n",
    "# 作者：宇智波若兰\n",
    "\n",
    "# 链接：https://www.nowcoder.com/discuss/177358?type=2\n",
    "# 小明是一个数学家，他喜欢用数字给事物命名编号，他给自己编号为1，同时在2019年小明开办了一个农场，准备开始养母猪，\n",
    "# 他专门给农场的母猪用以下数列2，3，4，5，7，9，12，16，21，28，37，49，65，86，114，151...进行命名。假设农场的母猪永远不会死，\n",
    "# 小母猪出生后3年后成熟，成熟后从第三年开始每年只会生一只小母猪。第一年农场，有一只刚刚出生的小母猪和一只成熟的母猪(本年不再生小猪，下一年开始生小猪)，\n",
    "# 并给他们编号为2和3。请问，第m只母猪编号为多少？其是哪一年出生的？\n",
    "# 小明还准备了1份礼物，专门颁给农场第1到m只的母猪颁奖，颁奖规则如下:选出第1到m只的母猪翻转编号(114编号翻转为411)为第k大的母猪进行颁奖，\n",
    "# 请问是第几只猪获奖？提示: f(n)=f(n-2)+f(n-3)\n",
    "\n",
    "'''\n",
    "输入 m,k\n",
    "输出:\n",
    "输出三个数字半角逗号分隔\n",
    "第m只母猪编号,哪一年出生,第几只小猪获奖\n",
    "输入范例:\n",
    "20,3\n",
    "输出范例:\n",
    "465,2024,15'''\n",
    "\n",
    "def find_index_from_m(inc):\n",
    "    resid = inc%3\n",
    "    j=2\n",
    "    inte = inc//3\n",
    "    print('inte', inte)\n",
    "\n",
    "    if inte >=1:\n",
    "        for inc in range(inte-1):\n",
    "\n",
    "            for i in range(3):\n",
    "                j += 1\n",
    "                print('j', j)\n",
    "                index[i+3] = index[i] + index[i+1]\n",
    "                index[i] = index[i+3]\n",
    "                print('index[i]', index[i])\n",
    "\n",
    "    print('index', index)\n",
    "    for i in range(resid):\n",
    "        j+=1\n",
    "        print('j', j)\n",
    "        index[i+3] = index[i] + index[i+1]\n",
    "        index[i] = index[i+3]\n",
    "        print('index[i]', index[i])\n",
    "\n",
    "    print(index)\n",
    "\n"
   ]
  },
  {
   "cell_type": "code",
   "execution_count": null,
   "metadata": {},
   "outputs": [],
   "source": []
  },
  {
   "cell_type": "code",
   "execution_count": null,
   "metadata": {},
   "outputs": [],
   "source": []
  }
 ],
 "metadata": {
  "kernelspec": {
   "display_name": "Python 3",
   "language": "python",
   "name": "python3"
  },
  "language_info": {
   "codemirror_mode": {
    "name": "ipython",
    "version": 3
   },
   "file_extension": ".py",
   "mimetype": "text/x-python",
   "name": "python",
   "nbconvert_exporter": "python",
   "pygments_lexer": "ipython3",
   "version": "3.7.3"
  }
 },
 "nbformat": 4,
 "nbformat_minor": 4
}
