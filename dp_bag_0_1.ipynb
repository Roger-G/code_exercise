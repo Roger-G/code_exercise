{
 "cells": [
  {
   "cell_type": "markdown",
   "metadata": {},
   "source": [
    "### 事例一\n",
    "假设我们有N件物品，分别编号为1, 2...n。其中编号为i的物品价值为vi，它的重量为wi。为了简化问题，假定价值和重量都是整数值。现在，假设我们有一个背包，它能够承载的重量是W。现在，我们希望往包里装这些物品，使得包里装的物品价值最大化，那么我们该如何来选择装的东西呢？"
   ]
  },
  {
   "cell_type": "markdown",
   "metadata": {},
   "source": [
    "\n",
    "链接：https://www.jianshu.com/p/25f4a183ede5\n"
   ]
  },
  {
   "cell_type": "raw",
   "metadata": {},
   "source": [
    "bag[ i ][ j ] 在承重为 j 的情况下 取前 i 个物品的最大价值，本题所求即为 bag[N][W], 即取在承重为 W 的前提下取前 N 个物品的最大值。"
   ]
  },
  {
   "cell_type": "markdown",
   "metadata": {},
   "source": [
    "\n",
    "\n",
    " 本题为明显的 dp 问题。即上一个最优解会影响下一个状态的最优解的求解\n",
    "\n",
    " 这类问题的求解步骤通常如下：\n",
    "初始状态→│决策1│→│决策2│→…→│决策n│→结束状态\n",
    "\n",
    "（1）划分：按照问题的特征，把问题分为若干阶段。注意：划分后的阶段一定是有序的或者可排序的\n",
    "\n",
    "（2）确定状态和状态变量：将问题发展到各个阶段时所处的各种不同的客观情况表现出来。状态的选择要满足无后续性\n",
    "\n",
    "（3）确定决策并写出状态转移方程：状态转移就是根据上一阶段的决策和状态来导出本阶段的状态。根据相邻两个阶段状态之间的联系来确定决策方法和状态转移方程\n",
    "\n",
    "（4）边界条件：状态转移方程是一个递推式，因此需要找到递推终止的条件\n",
    "\n",
    "\n",
    "整个求解过程可以用一张最优决策表来描述，最优决策表是一张二维表（行：决策阶段，列：问题的状态）表格需要填写的数据一般对应此问题的在某个阶段某个状态下的最优值（如最短路径，最长公共子序列，最大价值等），填表的过程就是根据递推关系，最后根据整个表格的数据通过简单的取舍或者运算求得问题的最优解。\n",
    "\n",
    "原文链接：https://blog.csdn.net/SweetSeven_/java/article/details/95466195\n"
   ]
  },
  {
   "cell_type": "markdown",
   "metadata": {},
   "source": [
    "为了能够得到已经计算过的，更小规模的子问题，我们可以根据当前限重来只考虑第i件物品放或者不放，那么就可以转化为涉及前i-1件物品的问题，\n",
    "\n",
    "即：\n",
    "\n",
    "情况1、如果第i件物品不能放（即这个物品的重量直接大于了当前限重 W），则问题转化为“前i-1件物品放入容量为 W 的背包中”，即 bag [i-1][W]；\n",
    "\n",
    "情况2、如果放第i件物品是可以放也可以不放，则问题转化为：\n"
   ]
  },
  {
   "cell_type": "raw",
   "metadata": {},
   "source": [
    "1）、如果选择不放第i件物品，则问题转化为“前i-1件物品放入容量为v的背包中”，即变大时 bag [i-1][W]；\n",
    "\n",
    "2）、如果选择放第i件物品，则问题转化为“前i-1件物品放入剩下的容量为 W - w[i] 的背包中”，此时能获得的最大价值就是 bag [i-1][W-w[i]] 再加上通过放入第i件物品获得的价值 v[i]。"
   ]
  },
  {
   "cell_type": "markdown",
   "metadata": {},
   "source": [
    "\n",
    "则情况2下，f[i][v]的值就是1），2）中最大的那个值。\n",
    "\n",
    "原文链接：https://blog.csdn.net/SweetSeven_/java/article/details/95466195"
   ]
  },
  {
   "cell_type": "raw",
   "metadata": {},
   "source": [
    "bag[i][j] : 在承重为 j 的情况下 取前 i 个物品的最大价值, 可以通过 max(bag[i-1][j-wj]+value[j], bag[i-1][j])求出。如果第 j 个物品大于整个承重，那就不用求了，那么就相当于没放进去，即bag[i-1][j]"
   ]
  },
  {
   "cell_type": "markdown",
   "metadata": {},
   "source": [
    "所以状态转移方程就是 "
   ]
  },
  {
   "cell_type": "raw",
   "metadata": {},
   "source": [
    "Dp[i][j] = Max(Dp[i-1][j-W[i]] + V[i]， Dp[i-1][j]) (第 i 件物品 W[i] 小于 j 即 j-W[i] > 0. \n",
    "\n",
    "如果 j-W[i] <= 0， 那么 Dp[i][j] = Dp[i-1][j] 即加上第 i 件物品但是没有用上。即在 j 的载重下，求前 i-1件物品的最优解，"
   ]
  },
  {
   "cell_type": "markdown",
   "metadata": {},
   "source": [
    "#### 通俗的话说，就是当加上一个新的载重时，\n",
    "#### 1️⃣有可能对之前的 i-1个进行重新配置会得到更优解，而不是直接加上新的 value 2️⃣原来的载重下最优解加上第 i 个就是新的最优解"
   ]
  },
  {
   "cell_type": "markdown",
   "metadata": {},
   "source": [
    "#### 3. 有了状态方程下面写 code"
   ]
  },
  {
   "cell_type": "raw",
   "metadata": {},
   "source": [
    "int dp[N+1][W+1]\n",
    "\n",
    "dp[0][..] = 0\n",
    "dp[..][0] = 0\n",
    "\n",
    "for i in [1..N]:\n",
    "    for w in [1..W]:\n",
    "        dp[i][w] = max(\n",
    "            把物品 i 装进背包,\n",
    "            不把物品 i 装进背包\n",
    "        )\n",
    "return dp[N][W]\n",
    "\n",
    "链接：https://zhuanlan.zhihu.com/p/112075593"
   ]
  },
  {
   "cell_type": "code",
   "execution_count": 13,
   "metadata": {},
   "outputs": [
    {
     "name": "stdout",
     "output_type": "stream",
     "text": [
      "[[ 0  0  0  0  0  0  0  0  0  0  0]\n",
      " [ 0  0  3  3  3  3  3  3  3  3  3]\n",
      " [ 0  0  6  6  9  9  9  9  9  9  9]\n",
      " [ 0  0  6  6  9  9  9  9 11 11 14]]\n"
     ]
    }
   ],
   "source": [
    "\n",
    "import numpy as np\n",
    "\n",
    "\n",
    "def find(w_list, v_list, W, N):\n",
    "    \n",
    "    Dp = np.zeros((N+1, W+1), dtype=np.int32)\n",
    "    \n",
    "    for i in range(1, N+1):\n",
    "        for j in range(1, W+1):\n",
    "            if w_list[i] > j:\n",
    "                Dp[i][j] = Dp[i-1][j]\n",
    "            else:\n",
    "                Dp[i][j] = max(Dp[i - 1][j - w_list[i]] + v_list[i], Dp[i - 1][j]) # \n",
    "    print(Dp)\n",
    "            \n",
    "if __name__ == '__main__':\n",
    "             \n",
    "    w = [0,2,2,6,5,4]\n",
    "    v = [0,3,6,5,4,6]\n",
    "    weight = 10        \n",
    "    num  = 3\n",
    "    result = find( w, v, weight, num)"
   ]
  },
  {
   "cell_type": "markdown",
   "metadata": {},
   "source": [
    "### 事例二 \n",
    "有n级台阶，一个人每次上一级或者两级，问有多少种走完n级台阶的方法。"
   ]
  },
  {
   "cell_type": "markdown",
   "metadata": {},
   "source": [
    "第一步 要明确两点，「状态」和「选择」。\n",
    "第二步 要明确dp数组的定义。\n",
    "第三步 根据「选择」，思考状态转移的逻辑。\n"
   ]
  },
  {
   "cell_type": "raw",
   "metadata": {},
   "source": [
    "1. 状态和选择：状态就是台阶数, 选择是走一步还是走两步。2. Dp 数组的定义：因为状态数只有一个所以 Dp[i]只用一位来表示： 在走到 i 级台阶的选择数。3. 转移状态的逻辑：Dp[i] = Dp[i] + Dp[i-2]"
   ]
  },
  {
   "cell_type": "markdown",
   "metadata": {},
   "source": [
    "解释： 走到第 i 层有两种方法。1️⃣在 n-1 层再跨一步，2️⃣在 n-2 层跨两步。注意：用上所有的选择。"
   ]
  },
  {
   "cell_type": "raw",
   "metadata": {},
   "source": [
    "int Dp[N+1]\n",
    "\n",
    "Dp[1] = 1, Dp[2] = 2\n",
    "\n",
    "for i in range(1, N+1):\n",
    "    Dp[i] = Dp[i-1] + Dp[i-2]\n",
    "    "
   ]
  },
  {
   "cell_type": "markdown",
   "metadata": {},
   "source": [
    "$ D [i][j]$"
   ]
  },
  {
   "cell_type": "markdown",
   "metadata": {},
   "source": [
    "#### 代码实现"
   ]
  },
  {
   "cell_type": "code",
   "execution_count": 44,
   "metadata": {},
   "outputs": [
    {
     "name": "stdout",
     "output_type": "stream",
     "text": [
      "13\n"
     ]
    }
   ],
   "source": [
    "import numpy as np\n",
    "N = 6\n",
    "Dp = list(np.zeros(N+1))\n",
    "\n",
    "Dp[1] = 1\n",
    "Dp[2] = 2\n",
    "\n",
    "for i in range(3, N+1):\n",
    "    Dp[i] = Dp[i-1] + Dp[i-2]\n",
    "    \n",
    "print (Dp[-1])"
   ]
  },
  {
   "cell_type": "markdown",
   "metadata": {},
   "source": [
    "### 事例三\n",
    "给定一个矩阵 $m$，从左上角开始每次只能向右走或者向下走，最后达到右下角的位置，路径中所有数字累加起来就是路径和，返回所有路径的最小路径和，如果给定的 $m$ 如下，那么路径 $1, 3, 1, 0, 6, 1, 0 $ 就是最小路径和，返回 $12.$"
   ]
  },
  {
   "cell_type": "raw",
   "metadata": {},
   "source": [
    "1 3 5 9\n",
    "\n",
    "8 1 3 4\n",
    "\n",
    "5 0 6 1\n",
    "\n",
    "8 8 4 0"
   ]
  },
  {
   "cell_type": "markdown",
   "metadata": {},
   "source": [
    "第一步 要明确两点，「状态」和「选择」。 第二步 要明确 $dp$ 数组的定义。 第三步 根据「选择」，思考状态转移的逻辑。"
   ]
  },
  {
   "cell_type": "markdown",
   "metadata": {},
   "source": [
    "$1.$ 状态是最小路径和，选择就是向右或者向下走。2.   $dp[i][j]$ means in the point $(i, j)$, the minimus step sum arriving here.\n"
   ]
  },
  {
   "cell_type": "markdown",
   "metadata": {},
   "source": [
    "所以"
   ]
  },
  {
   "cell_type": "code",
   "execution_count": null,
   "metadata": {},
   "outputs": [],
   "source": []
  }
 ],
 "metadata": {
  "kernelspec": {
   "display_name": "Python 3",
   "language": "python",
   "name": "python3"
  },
  "language_info": {
   "codemirror_mode": {
    "name": "ipython",
    "version": 3
   },
   "file_extension": ".py",
   "mimetype": "text/x-python",
   "name": "python",
   "nbconvert_exporter": "python",
   "pygments_lexer": "ipython3",
   "version": "3.7.3"
  }
 },
 "nbformat": 4,
 "nbformat_minor": 4
}
