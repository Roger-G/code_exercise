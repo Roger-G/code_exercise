{
 "cells": [
  {
   "cell_type": "code",
   "execution_count": null,
   "metadata": {},
   "outputs": [],
   "source": [
    "# 连续子串问题\n",
    "\n",
    "# 第二个，n个元素的数组，在它的连续子串（连续就是挨着的）中，随机取一个，然后取它的最大值，求这样取出的最大值的期望。（\n",
    "# eg，就是【1、2、3】，连续子串有【1】【2】【3】【1、2】【2、3】【1、2、3】，然后比如【1、2、3】的最大值就是3）\n"
   ]
  },
  {
   "cell_type": "code",
   "execution_count": null,
   "metadata": {},
   "outputs": [],
   "source": [
    "border_left = []\n",
    "\n",
    "def find_border_left(value, index, list_test, count):\n",
    "\n",
    "    if index == 0:\n",
    "        return count\n",
    "    \n",
    "    value_left = list_test[index-1] \n",
    "    if value >= value_left:\n",
    "        count += 1\n",
    "        value = value_left\n",
    "\n",
    "        return find_border_left(value, index-1, list_test, count)\n",
    "    \n",
    "    return count\n",
    "\n",
    "def find_border_right(value, index, list_test, count):\n",
    "\n",
    "    if index == len(list_test)-1:\n",
    "        return count\n",
    "    \n",
    "    value_right = list_test[index+1] \n",
    "    if value >= value_right:\n",
    "        count += 1\n",
    "\n",
    "        return find_border_right(value, index+1, list_test, count)\n",
    "    \n",
    "    return count\n",
    "\n",
    "list_num = [12, 3, 3, 5, 5, 13]\n",
    "\n",
    "find_border_right(12, 0, list_num, 0)"
   ]
  }
 ],
 "metadata": {
  "kernelspec": {
   "display_name": "Python 3",
   "language": "python",
   "name": "python3"
  },
  "language_info": {
   "codemirror_mode": {
    "name": "ipython",
    "version": 3
   },
   "file_extension": ".py",
   "mimetype": "text/x-python",
   "name": "python",
   "nbconvert_exporter": "python",
   "pygments_lexer": "ipython3",
   "version": "3.7.3"
  }
 },
 "nbformat": 4,
 "nbformat_minor": 4
}
